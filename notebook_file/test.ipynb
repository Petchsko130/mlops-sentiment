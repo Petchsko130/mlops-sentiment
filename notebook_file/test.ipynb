{
 "cells": [
  {
   "cell_type": "code",
   "execution_count": 1,
   "id": "2d6ab4fe",
   "metadata": {},
   "outputs": [],
   "source": [
    "from mlflow import MlflowClient\n",
    "from pprint import pprint"
   ]
  },
  {
   "cell_type": "code",
   "execution_count": 2,
   "id": "3bee5608",
   "metadata": {},
   "outputs": [],
   "source": [
    "client = MlflowClient(tracking_uri=\"http://127.0.0.1:5000\")"
   ]
  },
  {
   "cell_type": "code",
   "execution_count": 3,
   "id": "02aeeb60",
   "metadata": {},
   "outputs": [
    {
     "data": {
      "text/plain": [
       "[<Experiment: artifact_location='file:///Users/petchakrit_pinyopawasutthi/Petch_project/CP_Confidential/Additional/mlops-sentiment/mlruns/503812034952158675', creation_time=1754385007487, experiment_id='503812034952158675', last_update_time=1754385007487, lifecycle_stage='active', name='MLflow MLOps-Sentiment', tags={}>,\n",
       " <Experiment: artifact_location='file:///Users/petchakrit_pinyopawasutthi/Petch_project/CP_Confidential/Additional/mlops-sentiment/mlruns/0', creation_time=1753932316262, experiment_id='0', last_update_time=1753932316262, lifecycle_stage='active', name='Default', tags={}>]"
      ]
     },
     "execution_count": 3,
     "metadata": {},
     "output_type": "execute_result"
    }
   ],
   "source": [
    "client.search_experiments()"
   ]
  },
  {
   "cell_type": "code",
   "execution_count": 11,
   "id": "b82dedbd",
   "metadata": {},
   "outputs": [],
   "source": [
    "experiment = client.search_experiments()[0]"
   ]
  },
  {
   "cell_type": "code",
   "execution_count": 12,
   "id": "d0356546",
   "metadata": {},
   "outputs": [
    {
     "data": {
      "text/plain": [
       "<Experiment: artifact_location='file:///Users/petchakrit_pinyopawasutthi/Petch_project/CP_Confidential/Additional/mlops-sentiment/mlruns/503812034952158675', creation_time=1754385007487, experiment_id='503812034952158675', last_update_time=1754385007487, lifecycle_stage='active', name='MLflow MLOps-Sentiment', tags={}>"
      ]
     },
     "execution_count": 12,
     "metadata": {},
     "output_type": "execute_result"
    }
   ],
   "source": [
    "experiment"
   ]
  },
  {
   "cell_type": "code",
   "execution_count": null,
   "id": "4f60c834",
   "metadata": {},
   "outputs": [],
   "source": []
  }
 ],
 "metadata": {
  "kernelspec": {
   "display_name": "base",
   "language": "python",
   "name": "python3"
  },
  "language_info": {
   "codemirror_mode": {
    "name": "ipython",
    "version": 3
   },
   "file_extension": ".py",
   "mimetype": "text/x-python",
   "name": "python",
   "nbconvert_exporter": "python",
   "pygments_lexer": "ipython3",
   "version": "3.11.5"
  }
 },
 "nbformat": 4,
 "nbformat_minor": 5
}
