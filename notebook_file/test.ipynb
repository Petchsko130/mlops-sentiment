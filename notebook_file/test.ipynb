{
 "cells": [
  {
   "cell_type": "code",
   "execution_count": 18,
   "id": "2d6ab4fe",
   "metadata": {},
   "outputs": [],
   "source": [
    "from mlflow import MlflowClient\n",
    "from pprint import pprint"
   ]
  },
  {
   "cell_type": "code",
   "execution_count": 19,
   "id": "3bee5608",
   "metadata": {},
   "outputs": [],
   "source": [
    "client = MlflowClient(tracking_uri=\"http://127.0.0.1:5000\")"
   ]
  },
  {
   "cell_type": "code",
   "execution_count": 21,
   "id": "02aeeb60",
   "metadata": {},
   "outputs": [
    {
     "data": {
      "text/plain": [
       "[<Experiment: artifact_location='/Users/petchakrit_pinyopawasutthi/Petch_project/CP_Confidential/Additional/mlops-sentiment/mlruns/1', creation_time=1754546656643, experiment_id='1', last_update_time=1754546656643, lifecycle_stage='active', name='wine-quality-optimization', tags={}>,\n",
       " <Experiment: artifact_location='/Users/petchakrit_pinyopawasutthi/Petch_project/CP_Confidential/Additional/mlops-sentiment/mlruns/0', creation_time=1754545722125, experiment_id='0', last_update_time=1754545722125, lifecycle_stage='active', name='Default', tags={}>]"
      ]
     },
     "execution_count": 21,
     "metadata": {},
     "output_type": "execute_result"
    }
   ],
   "source": [
    "client.search_experiments()"
   ]
  },
  {
   "cell_type": "code",
   "execution_count": 11,
   "id": "b82dedbd",
   "metadata": {},
   "outputs": [],
   "source": [
    "experiment = client.search_experiments()[0]"
   ]
  },
  {
   "cell_type": "code",
   "execution_count": 12,
   "id": "d0356546",
   "metadata": {},
   "outputs": [
    {
     "data": {
      "text/plain": [
       "<Experiment: artifact_location='file:///Users/petchakrit_pinyopawasutthi/Petch_project/CP_Confidential/Additional/mlops-sentiment/mlruns/503812034952158675', creation_time=1754385007487, experiment_id='503812034952158675', last_update_time=1754385007487, lifecycle_stage='active', name='MLflow MLOps-Sentiment', tags={}>"
      ]
     },
     "execution_count": 12,
     "metadata": {},
     "output_type": "execute_result"
    }
   ],
   "source": [
    "experiment"
   ]
  },
  {
   "cell_type": "code",
   "execution_count": 16,
   "id": "4f60c834",
   "metadata": {},
   "outputs": [],
   "source": [
    "import numpy as np\n",
    "from hyperopt import hp\n",
    "\n",
    "search_space = {\n",
    "    \"learning_rate\": hp.loguniform(\"learning_rate\", np.log(1e-5), np.log(1e-1)),\n",
    "    \"momentum\": hp.uniform(\"momentum\", 0.0, 0.9),\n",
    "}"
   ]
  },
  {
   "cell_type": "code",
   "execution_count": 32,
   "id": "f6a81f3f",
   "metadata": {},
   "outputs": [],
   "source": [
    "import mlflow\n",
    "\n",
    "client = mlflow.MlflowClient(tracking_uri=\"http://127.0.0.1:5000\")\n"
   ]
  },
  {
   "cell_type": "code",
   "execution_count": null,
   "id": "3e4254de",
   "metadata": {},
   "outputs": [
    {
     "data": {
      "text/plain": [
       "<RegisteredModel: aliases={'production': '2', 'staging': '1'}, creation_timestamp=1754547363364, deployment_job_id='', deployment_job_state='DEPLOYMENT_JOB_CONNECTION_STATE_UNSPECIFIED', description='Optimized neural network for wine quality prediction for Tutorials', last_updated_timestamp=1754547744967, latest_versions=[<ModelVersion: aliases=[], creation_timestamp=1754547744967, current_stage='None', deployment_job_state=<ModelVersionDeploymentJobState: current_task_name='', job_id='', job_state='DEPLOYMENT_JOB_CONNECTION_STATE_UNSPECIFIED', run_id='', run_state='DEPLOYMENT_JOB_RUN_STATE_UNSPECIFIED'>, description='', last_updated_timestamp=1754547744967, metrics=None, model_id=None, name='wine-quality-predictor', params=None, run_id='', run_link='', source='models:/wine-quality-predictor/1', status='READY', status_message=None, tags={}, user_id='', version='2'>], name='wine-quality-predictor', tags={}>"
      ]
     },
     "execution_count": 34,
     "metadata": {},
     "output_type": "execute_result"
    }
   ],
   "source": [
    "client.get_registered_model(name = 'wine-quality-predictor')"
   ]
  },
  {
   "cell_type": "code",
   "execution_count": null,
   "id": "367595ec",
   "metadata": {},
   "outputs": [
    {
     "name": "stdout",
     "output_type": "stream",
     "text": [
      "Predicted wine quality: {'predictions': [[5.752432823181152]]}\n"
     ]
    }
   ],
   "source": [
    "\n",
    "# After Serve API at port 5002\n",
    "import requests\n",
    "import json\n",
    "\n",
    "# Prepare test data\n",
    "test_wine = {\n",
    "    \"dataframe_split\": {\n",
    "        \"columns\": [\n",
    "            \"fixed acidity\",\n",
    "            \"volatile acidity\",\n",
    "            \"citric acid\",\n",
    "            \"residual sugar\",\n",
    "            \"chlorides\",\n",
    "            \"free sulfur dioxide\",\n",
    "            \"total sulfur dioxide\",\n",
    "            \"density\",\n",
    "            \"pH\",\n",
    "            \"sulphates\",\n",
    "            \"alcohol\",\n",
    "        ],\n",
    "        \"data\": [[7.0, 0.27, 0.36, 20.7, 0.045, 45, 170, 1.001, 3.0, 0.45, 8.8]],\n",
    "    }\n",
    "}\n",
    "\n",
    "# Make prediction request\n",
    "response = requests.post(\n",
    "    \"http://localhost:5002/invocations\",\n",
    "    headers={\"Content-Type\": \"application/json\"},\n",
    "    data=json.dumps(test_wine),\n",
    ")\n",
    "\n",
    "prediction = response.json()\n",
    "print(f\"Predicted wine quality: {prediction}\")"
   ]
  },
  {
   "cell_type": "code",
   "execution_count": null,
   "id": "21e07317",
   "metadata": {},
   "outputs": [],
   "source": []
  },
  {
   "cell_type": "code",
   "execution_count": null,
   "id": "c1b50b12",
   "metadata": {},
   "outputs": [],
   "source": []
  }
 ],
 "metadata": {
  "kernelspec": {
   "display_name": "base",
   "language": "python",
   "name": "python3"
  },
  "language_info": {
   "codemirror_mode": {
    "name": "ipython",
    "version": 3
   },
   "file_extension": ".py",
   "mimetype": "text/x-python",
   "name": "python",
   "nbconvert_exporter": "python",
   "pygments_lexer": "ipython3",
   "version": "3.11.5"
  }
 },
 "nbformat": 4,
 "nbformat_minor": 5
}
